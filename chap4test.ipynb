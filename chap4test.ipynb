{
  "nbformat": 4,
  "nbformat_minor": 0,
  "metadata": {
    "colab": {
      "provenance": [],
      "include_colab_link": true
    },
    "kernelspec": {
      "name": "python3",
      "display_name": "Python 3"
    },
    "language_info": {
      "name": "python"
    }
  },
  "cells": [
    {
      "cell_type": "markdown",
      "metadata": {
        "id": "view-in-github",
        "colab_type": "text"
      },
      "source": [
        "<a href=\"https://colab.research.google.com/github/smxoyo/python101/blob/main/chap4test.ipynb\" target=\"_parent\"><img src=\"https://colab.research.google.com/assets/colab-badge.svg\" alt=\"Open In Colab\"/></a>"
      ]
    },
    {
      "cell_type": "markdown",
      "source": [
        "# 4강 1절"
      ],
      "metadata": {
        "id": "8qm2njbqj44L"
      }
    },
    {
      "cell_type": "code",
      "source": [
        "3.141592"
      ],
      "metadata": {
        "colab": {
          "base_uri": "https://localhost:8080/"
        },
        "id": "sZqdQIeunWcs",
        "outputId": "8cf96e37-be42-4d32-bd36-03651764c847"
      },
      "execution_count": 1,
      "outputs": [
        {
          "output_type": "execute_result",
          "data": {
            "text/plain": [
              "3.141592"
            ]
          },
          "metadata": {},
          "execution_count": 1
        }
      ]
    },
    {
      "cell_type": "code",
      "source": [
        "\"Computer\""
      ],
      "metadata": {
        "colab": {
          "base_uri": "https://localhost:8080/",
          "height": 35
        },
        "id": "LT9KpczenYpF",
        "outputId": "22f14bdd-9086-4abf-e7b2-6e4a3f228cca"
      },
      "execution_count": 2,
      "outputs": [
        {
          "output_type": "execute_result",
          "data": {
            "text/plain": [
              "'Computer'"
            ],
            "application/vnd.google.colaboratory.intrinsic+json": {
              "type": "string"
            }
          },
          "metadata": {},
          "execution_count": 2
        }
      ]
    },
    {
      "cell_type": "code",
      "source": [],
      "metadata": {
        "id": "Kad-mLQznel0"
      },
      "execution_count": null,
      "outputs": []
    },
    {
      "cell_type": "code",
      "source": [
        "\"Hello World!\""
      ],
      "metadata": {
        "id": "Rupa9hQnfVSx",
        "colab": {
          "base_uri": "https://localhost:8080/",
          "height": 35
        },
        "outputId": "e4a4ac46-2017-4d5a-bf71-602ca63540d0"
      },
      "execution_count": 5,
      "outputs": [
        {
          "output_type": "execute_result",
          "data": {
            "text/plain": [
              "'Hello World!'"
            ],
            "application/vnd.google.colaboratory.intrinsic+json": {
              "type": "string"
            }
          },
          "metadata": {},
          "execution_count": 5
        }
      ]
    },
    {
      "cell_type": "code",
      "source": [
        "2 ** 10 * 5"
      ],
      "metadata": {
        "colab": {
          "base_uri": "https://localhost:8080/"
        },
        "id": "_40_VhPLnva0",
        "outputId": "c79aa555-73c3-493a-c3d9-fa4c1ad0e3de"
      },
      "execution_count": 8,
      "outputs": [
        {
          "output_type": "execute_result",
          "data": {
            "text/plain": [
              "5120"
            ]
          },
          "metadata": {},
          "execution_count": 8
        }
      ]
    },
    {
      "cell_type": "code",
      "source": [
        "\"computer\" + \"science\"\n",
        "\"computer\" * 3"
      ],
      "metadata": {
        "colab": {
          "base_uri": "https://localhost:8080/",
          "height": 35
        },
        "id": "baEhP9EFn8DQ",
        "outputId": "85c595fb-e11c-44ef-8b3a-af648916c085"
      },
      "execution_count": 10,
      "outputs": [
        {
          "output_type": "execute_result",
          "data": {
            "text/plain": [
              "'computercomputercomputer'"
            ],
            "application/vnd.google.colaboratory.intrinsic+json": {
              "type": "string"
            }
          },
          "metadata": {},
          "execution_count": 10
        }
      ]
    },
    {
      "cell_type": "code",
      "source": [
        "print(\"Hello World!\")\n",
        "print(\"Python is fun\")"
      ],
      "metadata": {
        "colab": {
          "base_uri": "https://localhost:8080/"
        },
        "id": "sLQEFDWCoFXG",
        "outputId": "37f8b829-ab4c-4af6-ef68-211a9e9262be"
      },
      "execution_count": 15,
      "outputs": [
        {
          "output_type": "stream",
          "name": "stdout",
          "text": [
            "Hello World!\n",
            "Python is fun\n"
          ]
        }
      ]
    },
    {
      "cell_type": "markdown",
      "source": [
        "# 학점 계산"
      ],
      "metadata": {
        "id": "8WSarWFsossK"
      }
    },
    {
      "cell_type": "code",
      "source": [
        "# 학점 계산\n",
        "print((4.5 * 2 + 4.0 * 3) / 2)"
      ],
      "metadata": {
        "colab": {
          "base_uri": "https://localhost:8080/"
        },
        "id": "FXXhB3Mioh7W",
        "outputId": "b08efd15-00b8-4c3b-a316-374c207fc523"
      },
      "execution_count": 17,
      "outputs": [
        {
          "output_type": "stream",
          "name": "stdout",
          "text": [
            "10.5\n"
          ]
        }
      ]
    },
    {
      "cell_type": "markdown",
      "source": [
        "# 4강 2절"
      ],
      "metadata": {
        "id": "XA4yR0RDjgNl"
      }
    },
    {
      "cell_type": "code",
      "source": [
        "print(1 / 3 * 3.14 * 20 ** 2 * 30 )\n",
        "print(3.14 * 20 ** 2 + 3.14 * 20 * 30)"
      ],
      "metadata": {
        "id": "buMmaXCXjk6D"
      },
      "execution_count": null,
      "outputs": []
    },
    {
      "cell_type": "markdown",
      "source": [
        "# 변수 사용하기"
      ],
      "metadata": {
        "id": "6rCkG0KA38Qj"
      }
    },
    {
      "cell_type": "code",
      "source": [
        "# 반지름, 높이 값 할당\n",
        "rad = 20\n",
        "hei = 30\n",
        "\n",
        "# 부피 출력\n",
        "print(1 / 3 * 3.14 * rad  ** 2 * hei)\n",
        "# 겉넓이 출력\n",
        "print(3.14 * rad ** 2 + 3.14 * rad * hei)\n",
        "\n",
        "# 산술 연산자의 정의\n"
      ],
      "metadata": {
        "colab": {
          "base_uri": "https://localhost:8080/"
        },
        "id": "MuPDV2xa3-sc",
        "outputId": "981d73de-9a33-4209-dc0c-e0d84daa2b04"
      },
      "execution_count": 23,
      "outputs": [
        {
          "output_type": "stream",
          "name": "stdout",
          "text": [
            "12559.999999999998\n",
            "3140.0\n"
          ]
        }
      ]
    },
    {
      "cell_type": "markdown",
      "source": [
        "# 산술연산자 및 내장함수"
      ],
      "metadata": {
        "id": "y5px6F1186BP"
      }
    },
    {
      "cell_type": "code",
      "source": [
        "5 / 2\n",
        "\n",
        "# 정수 나눗셈 연산자\n",
        "5 // 2\n",
        "\n",
        "25 % 7\n",
        "\n",
        "8.4 % 0.9\n",
        "\n",
        "# 홀수와 짝수를 구분하는 모듈러 연산자\n",
        "number = 10\n",
        "number % 2\n",
        "\n",
        "# 내장함수\n",
        "max(2, 3, 4)\n",
        "min(2, 3, 4)\n",
        "round(3.14)\n",
        "abs(-3)\n",
        "pow(2, 3)\n"
      ],
      "metadata": {
        "colab": {
          "base_uri": "https://localhost:8080/"
        },
        "id": "hrzhuUba878l",
        "outputId": "21f2f5b2-3e9f-4b2a-eec1-c4e4f325263f"
      },
      "execution_count": 33,
      "outputs": [
        {
          "output_type": "execute_result",
          "data": {
            "text/plain": [
              "8"
            ]
          },
          "metadata": {},
          "execution_count": 33
        }
      ]
    }
  ]
}