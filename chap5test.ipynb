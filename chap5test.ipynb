{
  "nbformat": 4,
  "nbformat_minor": 0,
  "metadata": {
    "colab": {
      "provenance": [],
      "include_colab_link": true
    },
    "kernelspec": {
      "name": "python3",
      "display_name": "Python 3"
    },
    "language_info": {
      "name": "python"
    }
  },
  "cells": [
    {
      "cell_type": "markdown",
      "metadata": {
        "id": "view-in-github",
        "colab_type": "text"
      },
      "source": [
        "<a href=\"https://colab.research.google.com/github/smxoyo/python101/blob/main/chap5test.ipynb\" target=\"_parent\"><img src=\"https://colab.research.google.com/assets/colab-badge.svg\" alt=\"Open In Colab\"/></a>"
      ]
    },
    {
      "cell_type": "markdown",
      "source": [
        "# 5강 2절"
      ],
      "metadata": {
        "id": "QaMMtoihlN9D"
      }
    },
    {
      "cell_type": "markdown",
      "source": [
        "삼각형 출력하기"
      ],
      "metadata": {
        "id": "zsVGhzcxlSh2"
      }
    },
    {
      "cell_type": "code",
      "execution_count": 3,
      "metadata": {
        "id": "Uzg7FWgclGzv",
        "outputId": "43cbe069-1538-451c-877c-c0362298827e",
        "colab": {
          "base_uri": "https://localhost:8080/"
        }
      },
      "outputs": [
        {
          "output_type": "stream",
          "name": "stdout",
          "text": [
            "   *\n",
            "  ***\n",
            " *****\n",
            "*******\n"
          ]
        }
      ],
      "source": [
        "# 순차적 프로그래밍\n",
        "\n",
        "print(\"   *\")\n",
        "print(\"  ***\")\n",
        "print(\" *****\")\n",
        "print(\"*******\")"
      ]
    },
    {
      "cell_type": "markdown",
      "source": [
        "# 인풋함수"
      ],
      "metadata": {
        "id": "V9hTVxj6QS_l"
      }
    },
    {
      "cell_type": "code",
      "source": [
        "rad = input('반지름의 값을 입력하세요: ')\n",
        "\n",
        "# input : 사용자로부터 데이터를 입력받는 함수"
      ],
      "metadata": {
        "id": "M251M1KJQUfy",
        "outputId": "d258b536-bf23-458f-9310-84c6eae5c1af",
        "colab": {
          "base_uri": "https://localhost:8080/"
        }
      },
      "execution_count": 7,
      "outputs": [
        {
          "name": "stdout",
          "output_type": "stream",
          "text": [
            "반지름의 값을 입력하세요: 30\n"
          ]
        }
      ]
    },
    {
      "cell_type": "markdown",
      "source": [
        "원뿔 계산기"
      ],
      "metadata": {
        "id": "o1aoIihhlrBZ"
      }
    },
    {
      "cell_type": "code",
      "source": [
        "#반지름, 높이 값 할당(함수의 중첩)\n",
        "rad = int(input(\"반지름의 값을 입력하세요: \"))\n",
        "hei = int(input(\"높이 값을 입력하세요: \"))\n",
        "\n",
        "#부피 출력\n",
        "# 프린트 함수에는 파라미터 개수 제약이 없음. 데이터 사이에 공백 하나가 자동으로 추가\n",
        "''' 1. 함수를 중첩해서 사용\n",
        "2. 여러 개의 파라미터를 받을 수 있는 print 함수\n",
        "3. sep 옵션으로 공백 조절'''\n",
        "\n",
        "vol = 1 / 3 * 3.14 * rad ** 2 * hei\n",
        "print(\"부피의 값은\", vol, \"입니다\",  sep=\"\")\n",
        "\n",
        "#겉넓이 출력\n",
        "suf = 3.14 * rad ** 2 + 3.14 * rad * hei\n",
        "print(\"겉넓이의 값은\", suf, \"입니다\", sep=\"\")"
      ],
      "metadata": {
        "id": "jzJqpbKgluL7",
        "outputId": "b6790d98-3666-4c62-fc98-1962080c8db7",
        "colab": {
          "base_uri": "https://localhost:8080/"
        }
      },
      "execution_count": 10,
      "outputs": [
        {
          "output_type": "stream",
          "name": "stdout",
          "text": [
            "반지름의 값을 입력하세요: 20\n",
            "높이 값을 입력하세요: 30\n",
            "부피의 값은12559.999999999998입니다\n",
            "겉넓이의 값은3140.0입니다\n"
          ]
        }
      ]
    }
  ]
}