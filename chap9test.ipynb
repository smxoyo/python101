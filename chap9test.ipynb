{
  "nbformat": 4,
  "nbformat_minor": 0,
  "metadata": {
    "colab": {
      "provenance": [],
      "include_colab_link": true
    },
    "kernelspec": {
      "name": "python3",
      "display_name": "Python 3"
    },
    "language_info": {
      "name": "python"
    }
  },
  "cells": [
    {
      "cell_type": "markdown",
      "metadata": {
        "id": "view-in-github",
        "colab_type": "text"
      },
      "source": [
        "<a href=\"https://colab.research.google.com/github/smxoyo/python101/blob/main/chap9test.ipynb\" target=\"_parent\"><img src=\"https://colab.research.google.com/assets/colab-badge.svg\" alt=\"Open In Colab\"/></a>"
      ]
    },
    {
      "cell_type": "markdown",
      "source": [
        "# 9강 1절"
      ],
      "metadata": {
        "id": "CAj_VKRq4Mhy"
      }
    },
    {
      "cell_type": "markdown",
      "source": [
        "**원뿔 부피 계산 함수 정의**"
      ],
      "metadata": {
        "id": "-0FrgkDm_YRK"
      }
    },
    {
      "cell_type": "code",
      "execution_count": 2,
      "metadata": {
        "id": "OhGWjvMSf_uP"
      },
      "outputs": [],
      "source": [
        "def prt_cone_vol(r, h) :\n",
        "    if r > 0 and h > 0 :\n",
        "        # r, h 모두 양수일 때\n",
        "        vol = 1/3 * 3.14 * r ** 2 * h\n",
        "        print(\"원뿔의 부피는\", vol, \"입니다.\")\n",
        "    else :\n",
        "    # r, h가 음수일 때\n",
        "        print(\"반지름과 높이 값에 양수를 입력하세요\")\n"
      ]
    },
    {
      "cell_type": "markdown",
      "source": [
        "**원뿔 부피 계산 함수 호출**"
      ],
      "metadata": {
        "id": "ygj-h_dt_elG"
      }
    },
    {
      "cell_type": "code",
      "source": [
        "radius = 20\n",
        "height = 30\n",
        "\n",
        "prt_cone_vol(radius, height)"
      ],
      "metadata": {
        "id": "Kgl7g457gFnj",
        "colab": {
          "base_uri": "https://localhost:8080/"
        },
        "outputId": "c20bf873-014a-405a-c3fc-2e6f5ec835b5"
      },
      "execution_count": 5,
      "outputs": [
        {
          "output_type": "stream",
          "name": "stdout",
          "text": [
            "원뿔의 부피는 12559.999999999998 입니다.\n"
          ]
        }
      ]
    },
    {
      "cell_type": "markdown",
      "source": [
        "**숫자를 입력받고 역순으로 출력하는 함수를 사용한 프로그램 문제** "
      ],
      "metadata": {
        "id": "3T0GpqYK_jXA"
      }
    },
    {
      "cell_type": "code",
      "source": [
        "digits = 34567\n",
        "\n",
        "def reverse_number(num) :\n",
        "    while num != 0 :\n",
        "        digit = num % 10\n",
        "        num = num // 10\n",
        "        print(digit, end=\"\")\n",
        "\n",
        "reverse_number(digits)"
      ],
      "metadata": {
        "id": "nsHHCmKB_pnQ",
        "colab": {
          "base_uri": "https://localhost:8080/"
        },
        "outputId": "6316588a-7b53-4117-f64a-35314e87f6d1"
      },
      "execution_count": 9,
      "outputs": [
        {
          "output_type": "stream",
          "name": "stdout",
          "text": [
            "76543"
          ]
        }
      ]
    },
    {
      "cell_type": "markdown",
      "source": [
        "# 9강 2절 "
      ],
      "metadata": {
        "id": "bw1IBTsp4wMv"
      }
    },
    {
      "cell_type": "markdown",
      "source": [
        "**원뿔 부피 계산 결과 반환 함수 정의**"
      ],
      "metadata": {
        "id": "454aKvSdAI2a"
      }
    },
    {
      "cell_type": "code",
      "source": [
        "def rtn_cone_vol(r, h) :\n",
        "    if r > 0 and h > 0 :\n",
        "        # r, h 모두 양수일 때\n",
        "        vol = 1/3 * 3.14 * r ** 2 * h\n",
        "        return vol\n",
        "    else :\n",
        "    # r, h가 음수일 때\n",
        "        print(\"반지름과 높이 값에 양수를 입력하세요\")\n",
        "\n",
        "print(format(rtn_cone_vol(10, 20), \"<20.3f\"), \"입니다\")"
      ],
      "metadata": {
        "id": "X8lfqqRBAQfV",
        "colab": {
          "base_uri": "https://localhost:8080/"
        },
        "outputId": "9f34d9c9-6fd1-4963-bfe3-fd544d911949"
      },
      "execution_count": 14,
      "outputs": [
        {
          "output_type": "stream",
          "name": "stdout",
          "text": [
            "2093.333             입니다\n"
          ]
        }
      ]
    },
    {
      "cell_type": "markdown",
      "source": [
        "**원뿔 부피 및 겉넓이 반환 함수 정의**"
      ],
      "metadata": {
        "id": "Ae2D5Cal_szh"
      }
    },
    {
      "cell_type": "code",
      "source": [
        "def rtn_cone_vol_surf(r, h) :\n",
        "    if r > 0 and h > 0 :\n",
        "        # r, h 모두 양수일 때\n",
        "        vol = 1/3 * 3.14 * r ** 2 * h\n",
        "        surf = 3.14 * r ** 2 + 3.14* r * h\n",
        "        return vol, surf\n",
        "    else :\n",
        "    # r, h가 음수일 때\n",
        "        print(\"반지름과 높이 값에 양수를 입력하세요\")\n",
        "\n",
        "vol1, surf1 = rtn_cone_vol_surf(50, 100)\n",
        "print(vol1, \"입니다.\")\n",
        "print(surf1, \"입니다.\")"
      ],
      "metadata": {
        "id": "cwZ6g1au45RD",
        "colab": {
          "base_uri": "https://localhost:8080/"
        },
        "outputId": "a64ecc55-d4af-41b1-eb3a-0c7661eefefa"
      },
      "execution_count": 16,
      "outputs": [
        {
          "output_type": "stream",
          "name": "stdout",
          "text": [
            "261666.66666666666 입니다.\n",
            "23550.0 입니다.\n"
          ]
        }
      ]
    },
    {
      "cell_type": "markdown",
      "source": [
        "**세 개의 사용자 입력을 오름차순으로 정렬하는 함수를 이용하여 정렬된 값을 출력하는 문제**\n"
      ],
      "metadata": {
        "id": "0FMNpd_4Ah9j"
      }
    },
    {
      "cell_type": "code",
      "source": [
        "a = int(input(\"첫번째 숫자를 입력하세요: \"))\n",
        "b = int(input(\"두번째 숫자를 입력하세요: \"))\n",
        "c = int(input(\"세번째 숫자를 입력하세요: \"))\n",
        "\n",
        "#동시할당을 이용한 sort\n",
        "def sort3(a, b, c) :\n",
        "    if a > b :\n",
        "        a, b = b, a\n",
        "    if a > c :\n",
        "        a, c = c, a\n",
        "    if b > c :\n",
        "        b, c = c, b\n",
        "    print(a, b, c)\n",
        "\n",
        "sort3(a, b, c)\n",
        "print(\"출력이후\", a, b, c)\n",
        "\n",
        "# 함수 내부에는 값만 전달되므로, 변수에는 영향이 가지 않음\n",
        "# 많은 양의 데이터를 전처리하는 과정에서도 동시할당 자주 사용"
      ],
      "metadata": {
        "id": "toh-zjeLArWn",
        "colab": {
          "base_uri": "https://localhost:8080/"
        },
        "outputId": "1719c584-8a92-4d6a-966f-3b43fc4859e6"
      },
      "execution_count": 18,
      "outputs": [
        {
          "output_type": "stream",
          "name": "stdout",
          "text": [
            "첫번째 숫자를 입력하세요: 434\n",
            "두번째 숫자를 입력하세요: 4\n",
            "세번째 숫자를 입력하세요: 9\n",
            "4 9 434\n",
            "출력이후 434 4 9\n"
          ]
        }
      ]
    },
    {
      "cell_type": "markdown",
      "source": [
        "# 9강 3절"
      ],
      "metadata": {
        "id": "7qOMFABd4y1t"
      }
    },
    {
      "cell_type": "markdown",
      "source": [
        "**값의 전달**"
      ],
      "metadata": {
        "id": "pVwxXsFLBCY-"
      }
    },
    {
      "cell_type": "code",
      "source": [
        "def rtn_cone_vol(r, h) :\n",
        "    if r > 0 and h > 0 :\n",
        "        # r, h 모두 양수일 때\n",
        "        vol = 1/3 * 3.14 * r ** 2 * h\n",
        "        r, h = 0, 0\n",
        "        return vol\n",
        "    else :\n",
        "    # r, h가 음수일 때\n",
        "        print(\"반지름과 높이 값에 양수를 입력하세요\")\n",
        "\n",
        "rad = 50\n",
        "hei = 100\n",
        "print(format(rtn_cone_vol(rad, hei), \">10.3f\"))\n",
        "print(\"함수사용후\", rad, hei)"
      ],
      "metadata": {
        "id": "cwoR_CQp45ti",
        "colab": {
          "base_uri": "https://localhost:8080/"
        },
        "outputId": "a3ac3843-7885-46d0-e37b-fd06801ca1bf"
      },
      "execution_count": 30,
      "outputs": [
        {
          "output_type": "stream",
          "name": "stdout",
          "text": [
            "261666.667\n",
            "함수사용후 50 100\n"
          ]
        }
      ]
    },
    {
      "cell_type": "markdown",
      "source": [
        "**변수의 스코프**"
      ],
      "metadata": {
        "id": "Wybq2K3yBJ8C"
      }
    },
    {
      "cell_type": "code",
      "source": [
        "x = 1\n",
        "print(\"x의 값은\", x)\n",
        "\n",
        "def inc(x) :\n",
        "    x = x + 1\n",
        "    print(\"2. x의 값은\", x)\n",
        "\n",
        "inc(x)\n",
        "print(\"3. x의 값은\", x)\n",
        "\n",
        "# 함수 내 외부의 변수들로 인해 혼동되지 않도록 변수의 이름을 명확히 지정해야야"
      ],
      "metadata": {
        "id": "6ZuNFN9BBWKR",
        "colab": {
          "base_uri": "https://localhost:8080/"
        },
        "outputId": "90a578bf-c535-4196-a10b-058a01119b08"
      },
      "execution_count": 31,
      "outputs": [
        {
          "output_type": "stream",
          "name": "stdout",
          "text": [
            "x의 값은 1\n",
            "2. x의 값은 2\n",
            "3. x의 값은 1\n"
          ]
        }
      ]
    },
    {
      "cell_type": "markdown",
      "source": [
        "**단위 원뿔(반지름 20, 높이 30)의 부피와 겉넓이를 출력하는 문제**"
      ],
      "metadata": {
        "id": "YDpFj9zqBL35"
      }
    },
    {
      "cell_type": "code",
      "source": [
        "# 원뿔 계산 함수 정의\n",
        "def rtn_cone_vol_surf(r = 20, h = 30) :\n",
        "    if r > 0 and h > 0 :\n",
        "        # r, h 모두 양수일 때\n",
        "        vol = 1/3 * 3.14 * r ** 2 * h\n",
        "        surf = 3.14 * r ** 2 + 3.14 * r * h\n",
        "        return vol, surf\n",
        "    else :\n",
        "        # r, h가 음수일 때\n",
        "        print(\"반지름과 높이 값에 양수를 입력하세요\")\n",
        "\n",
        "print(rtn_cone_vol_surf())\n",
        "print(rtn_cone_vol_surf(100, 200))\n",
        "\n",
        "# 함수 매개변수에 기본값을 설정해주었기 때문에 에러가 나지 않는다."
      ],
      "metadata": {
        "id": "mzWTObQdBXHc",
        "colab": {
          "base_uri": "https://localhost:8080/"
        },
        "outputId": "70ecc69d-0972-450a-ab37-7257376f0bab"
      },
      "execution_count": 34,
      "outputs": [
        {
          "output_type": "stream",
          "name": "stdout",
          "text": [
            "(12559.999999999998, 3140.0)\n",
            "(2093333.3333333333, 94200.0)\n"
          ]
        }
      ]
    },
    {
      "cell_type": "markdown",
      "source": [
        "**여러개의 수를 입력받고 합과 평균을 반환하는는 var_sum_avg 함수를 사용하여, (20, 25, 10, 85, 100, 150)에 대한 합과 평균을 출력하는 프로그램을 작성하시오.**\n"
      ],
      "metadata": {
        "id": "WqqJAJ0ACOjj"
      }
    },
    {
      "cell_type": "code",
      "source": [
        "# 파라미터의 개수가 가변적인 형태의 함수\n",
        "# 파라미터로 넘어오는 값들은 시퀀스로 전달(반복이 사용될 것)\n",
        "# 반복 구조 설계 전략 -> 함수를 먼저 만드는 것을 고민하지 말고, 작동시켜야 할 것을 먼저 구성해볼 것\n",
        "# 가변 매개변수는 지정할 가변 매개변수 앞에 * 붙여준다\n",
        "\n",
        "def var_sum_avg(*numbers) :\n",
        "    sum = 0\n",
        "    count = 0\n",
        "\n",
        "    for i in numbers :\n",
        "        sum = sum + i\n",
        "        count = count + 1\n",
        "\n",
        "    return sum, sum/count\n",
        "\n",
        "print(var_sum_avg(10, 20, 30, 40))\n",
        "print(var_sum_avg(20, 25, 10, 85, 100, 150))"
      ],
      "metadata": {
        "id": "GDZkR-SKCVth",
        "colab": {
          "base_uri": "https://localhost:8080/"
        },
        "outputId": "0b02c222-c7a3-4041-c9c1-ae60fdd306bc"
      },
      "execution_count": 39,
      "outputs": [
        {
          "output_type": "stream",
          "name": "stdout",
          "text": [
            "(100, 25.0)\n",
            "(390, 65.0)\n"
          ]
        }
      ]
    }
  ]
}